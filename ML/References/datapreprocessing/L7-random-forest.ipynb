{
 "cells": [
  {
   "cell_type": "markdown",
   "metadata": {
    "button": false,
    "new_sheet": false,
    "run_control": {
     "read_only": false
    }
   },
   "source": [
    "<!-- <a href=\"https://www.bigdatauniversity.com\"><img src=\"https://ibm.box.com/shared/static/cw2c7r3o20w9zn8gkecaeyjhgw3xdgbj.png\" width=\"400\" align=\"center\"></a>\n",
    " -->\n",
    " \n",
    "<!-- # Released under  -->\n",
    "\n",
    "Copyright (c) 2013 Mark Otto. Copyright (c) 2017 Andrew Fong. MIT License\n",
    "\n",
    "====== Nguồn http://users.soict.hust.edu.vn/khoattq/ml-dm-course/ ======\n",
    "\n",
    "\n",
    "\n",
    "\n",
    "<h1><center>Xây dựng mô hình Random Forest cho bài toán phân loại</center></h1>"
   ]
  },
  {
   "cell_type": "markdown",
   "metadata": {
    "button": false,
    "collapsed": true,
    "new_sheet": false,
    "run_control": {
     "read_only": false
    }
   },
   "source": [
    " - Trong bài thực hành này, chúng ta sử dụng mô hình Random Forest để phân loại bệnh nhân vào các loại thuốc khác nhau. Mô hình sau khi huấn luyện được sử dụng để dự đoán nhãn cho bệnh nhân mới từ đó có thể tìm được thuốc thích hợp\n",
    "<!-- In this lab exercise, you will learn a popular machine learning algorithm, Decision Tree. You will use this classification algorithm to build a model from historical data of patients, and their response to different medications. Then you use the trained decision tree to predict the class of a unknown patient, or to find a proper drug for a new patient. -->"
   ]
  },
  {
   "cell_type": "markdown",
   "metadata": {},
   "source": [
    "<h1>Nội dung thực hành</h1>\n",
    "\n",
    "<div class=\"alert alert-block alert-info\" style=\"margin-top: 20px\">\n",
    "    <ol>\n",
    "        <li><a href=\"#about_dataset\">Giới thiệu về dữ liệu</a></li>\n",
    "        <li><a href=\"#downloading_data\">Tải dữ liệu</a></li>\n",
    "        <li><a href=\"#pre-processing\">Tiền xử lý dữ liệu</a></li>\n",
    "        <li><a href=\"#setting_up_tree\">Cài đặt mô hình Random Forest</a></li>\n",
    "        <li><a href=\"#modeling\">Huấn luyện</a></li>\n",
    "        <li><a href=\"#prediction\">Dự đoán</a></li>\n",
    "        <li><a href=\"#evaluation\">Đánh giá mô hình</a></li>\n",
    "        <li><a href=\"#evaluation\">Đánh giá ảnh hưởng của các thuộc tính với nhãn</a></li>\n",
    "    </ol>\n",
    "</div>\n",
    "<br>\n",
    "<hr>"
   ]
  },
  {
   "cell_type": "markdown",
   "metadata": {
    "button": false,
    "new_sheet": false,
    "run_control": {
     "read_only": false
    }
   },
   "source": [
    "Import các thư viện sau:\n",
    "<ul>\n",
    "    <li> <b>numpy (as np)</b> </li>\n",
    "    <li> <b>pandas</b> </li>\n",
    "    <li> <b>RandomForestClassifier</b> from <b>sklearn.ensemble</b> </li>\n",
    "</ul>"
   ]
  },
  {
   "cell_type": "code",
   "execution_count": null,
   "metadata": {
    "button": false,
    "new_sheet": false,
    "run_control": {
     "read_only": false
    }
   },
   "outputs": [],
   "source": [
    "import numpy as np\n",
    "import pandas as pd\n",
    "from sklearn.ensemble import RandomForestClassifier"
   ]
  },
  {
   "cell_type": "markdown",
   "metadata": {
    "button": false,
    "new_sheet": false,
    "run_control": {
     "read_only": false
    }
   },
   "source": [
    "<div id=\"Giới thiệu về dữ liệu\">\n",
    "    <h2>Giới thiệu về dữ liệu</h2>\n",
    "    Giả sử bạn là một người nghiên cứu về dữ liệu y học, bạn đã thu thập được một tập dữ liệu các bệnh nhân của cùng một loại bệnh, trong khi điều trị mỗi bệnh nhân phản ứng với 1 trong 5 loại thuốc A, B, c, x và y.\n",
    "    <br>\n",
    "    <br>\n",
    "    Công việc cần làm là xây dựng một mô hình nhằm tìm ra loại thuốc phù hợp cho bênh nhân mới bị mắc loại bênh trên. Các trường dữ liệu gồm gồm có: Age, Sex, Blood Pressur, Cholesterol, Na_to_K, Drug\n",
    "    <br>\n",
    "    <br>\n",
    "    Chúng ta sử dụng phần dữ liệu huấn luyện để xây dựng mô hình Random Forest và đánh giá mô hình này trên tập đánh giá, sau đó sử dụng mô hình để suy diễn trên bệnh nhân mới\n",
    "</div>\n"
   ]
  },
  {
   "cell_type": "markdown",
   "metadata": {
    "button": false,
    "new_sheet": false,
    "run_control": {
     "read_only": false
    }
   },
   "source": [
    "<div id=\"downloading_data\"> \n",
    "    <h2>Load dữ liệu từ file</h2>\n",
    "<!--     Sử dụng wget để tải dữ liệu từ IBM Object Storage. -->\n",
    "</div>"
   ]
  },
  {
   "cell_type": "markdown",
   "metadata": {},
   "source": [
    "Đọc dữ liệu vào pandas dataframe"
   ]
  },
  {
   "cell_type": "code",
   "execution_count": null,
   "metadata": {
    "button": false,
    "new_sheet": false,
    "run_control": {
     "read_only": false
    }
   },
   "outputs": [],
   "source": [
    "my_data = pd.read_csv(\"data/drug200.csv\", delimiter=\",\")\n",
    "my_data[0:5]"
   ]
  },
  {
   "cell_type": "markdown",
   "metadata": {},
   "source": [
    "Kích thước của dữ liệu"
   ]
  },
  {
   "cell_type": "code",
   "execution_count": null,
   "metadata": {},
   "outputs": [],
   "source": [
    "my_data.shape"
   ]
  },
  {
   "cell_type": "markdown",
   "metadata": {},
   "source": [
    "<div href=\"pre-processing\">\n",
    "    <h2>Tiền xử lý dữ liệu</h2>\n",
    "</div>"
   ]
  },
  {
   "cell_type": "markdown",
   "metadata": {
    "button": false,
    "new_sheet": false,
    "run_control": {
     "read_only": false
    }
   },
   "source": [
    "<b>my_data</b> là  Drug.csv sau khi đọc vào pandas dataframe, chúng ta định nghĩa các tham số sau: <br>\n",
    "\n",
    "<ul>\n",
    "    <li> <b> X </b> as the <b> Ma trận thuộc tính </b> (data of my_data) \n",
    "    <li> <b> y </b> as the <b> Vector thuốc phản hồi (target) </b> </li>\n",
    "</ul>"
   ]
  },
  {
   "cell_type": "code",
   "execution_count": null,
   "metadata": {},
   "outputs": [],
   "source": [
    "X = my_data[['Age', 'Sex', 'BP', 'Cholesterol', 'Na_to_K']].values\n",
    "X[0:5]"
   ]
  },
  {
   "cell_type": "markdown",
   "metadata": {},
   "source": [
    "Một vài trường trong dữ liệu có dạng categorical như __Sex__ hoặc __BP__. Mô hình Random Forest trong thư viện chỉ xử lý với dữ liệu số thực do đó chúng ta cần chuyển các thuộc tính trên về dạng số thực tương ứng. Sử dụng  __skearn.preprocessing__ để chuyển dữ liệu dạng categorical về số thực"
   ]
  },
  {
   "cell_type": "code",
   "execution_count": null,
   "metadata": {},
   "outputs": [],
   "source": [
    "from sklearn import preprocessing\n",
    "le_sex = preprocessing.LabelEncoder()\n",
    "le_sex.fit(['F','M'])\n",
    "X[:,1] = le_sex.transform(X[:,1]) \n",
    "\n",
    "\n",
    "le_BP = preprocessing.LabelEncoder()\n",
    "le_BP.fit([ 'LOW', 'NORMAL', 'HIGH'])\n",
    "X[:,2] = le_BP.transform(X[:,2])\n",
    "\n",
    "\n",
    "le_Chol = preprocessing.LabelEncoder()\n",
    "le_Chol.fit([ 'NORMAL', 'HIGH'])\n",
    "X[:,3] = le_Chol.transform(X[:,3]) \n",
    "\n",
    "X[0:5]"
   ]
  },
  {
   "cell_type": "markdown",
   "metadata": {},
   "source": [
    "Dữ liệu target về loại thuốc phản ứng"
   ]
  },
  {
   "cell_type": "code",
   "execution_count": null,
   "metadata": {
    "button": false,
    "new_sheet": false,
    "run_control": {
     "read_only": false
    }
   },
   "outputs": [],
   "source": [
    "y = my_data[\"Drug\"]\n",
    "y[0:5]"
   ]
  },
  {
   "cell_type": "markdown",
   "metadata": {
    "button": false,
    "new_sheet": false,
    "run_control": {
     "read_only": false
    }
   },
   "source": [
    "<hr>\n",
    "\n",
    "<div id=\"setting_up_tree\">\n",
    "    <h2>Cài đặt mô hình Random Forest</h2>\n",
    "    Chúng ta chia dữ liệu thành hai phần <b>train</b> và <b>test</b> để huấn luyện và đánh giá mô hình <b>Random Forest</b>. Import <b>train_test_split</b> từ <b>sklearn.cross_validation</b>.\n",
    "</div>"
   ]
  },
  {
   "cell_type": "code",
   "execution_count": null,
   "metadata": {
    "button": false,
    "new_sheet": false,
    "run_control": {
     "read_only": false
    }
   },
   "outputs": [],
   "source": [
    "from sklearn.model_selection import train_test_split"
   ]
  },
  {
   "cell_type": "markdown",
   "metadata": {
    "button": false,
    "new_sheet": false,
    "run_control": {
     "read_only": false
    }
   },
   "source": [
    "Hàm <b> train_test_split </b> trả về 4 giá trị khác nhau. Chúng ta đặt tên như sau:<br>\n",
    "X_trainset, X_testset, y_trainset, y_testset <br> <br>\n",
    "Hàm <b> train_test_split </b> cần các tham số đầu vào: <br>\n",
    "X, y, test_size=0.3, and random_state=3. <br> <br>\n",
    "<b>X</b> and <b>y</b> là các ma trận và vector cần chia, <b>test_size</b> là tỉ lệ tập test,và <b>random_state</b> để loại bỏ tính ngẫu nhiên."
   ]
  },
  {
   "cell_type": "code",
   "execution_count": null,
   "metadata": {
    "button": false,
    "new_sheet": false,
    "run_control": {
     "read_only": false
    }
   },
   "outputs": [],
   "source": [
    "X_trainset, X_testset, y_trainset, y_testset = train_test_split(X, y, test_size=0.3, random_state=3)"
   ]
  },
  {
   "cell_type": "markdown",
   "metadata": {
    "button": false,
    "new_sheet": false,
    "run_control": {
     "read_only": false
    }
   },
   "source": [
    "<h3>Thực hành</h3>\n",
    "Print kích thước X_trainset and y_trainset. Đảm bảo số chiều tương ứng với nhau"
   ]
  },
  {
   "cell_type": "code",
   "execution_count": null,
   "metadata": {
    "button": false,
    "new_sheet": false,
    "run_control": {
     "read_only": false
    }
   },
   "outputs": [],
   "source": [
    "# your code\n",
    "\n"
   ]
  },
  {
   "cell_type": "markdown",
   "metadata": {
    "button": false,
    "new_sheet": false,
    "run_control": {
     "read_only": false
    }
   },
   "source": [
    "Print kích thước X_testset and y_testset. Đảm bảo số chiều tương ứng với nhau"
   ]
  },
  {
   "cell_type": "code",
   "execution_count": null,
   "metadata": {
    "button": false,
    "new_sheet": false,
    "run_control": {
     "read_only": false
    }
   },
   "outputs": [],
   "source": [
    "# your code\n",
    "\n"
   ]
  },
  {
   "cell_type": "markdown",
   "metadata": {
    "button": false,
    "new_sheet": false,
    "run_control": {
     "read_only": false
    }
   },
   "source": [
    "<hr>\n",
    "\n",
    "<div id=\"modeling\">\n",
    "    <h2>Huấn luyện</h2>\n",
    "    Trước tiên chúng ta cần tạo một đối tượng <b>RandomForestClassifier</b> tên <b>drugTree</b>.<br>\n",
    "    Khi khởi tạo cần chỉ rõ số cây tương ứng\n",
    "</div>"
   ]
  },
  {
   "cell_type": "code",
   "execution_count": null,
   "metadata": {
    "button": false,
    "new_sheet": false,
    "run_control": {
     "read_only": false
    }
   },
   "outputs": [],
   "source": [
    "drugTree = RandomForestClassifier(n_estimators=100)\n",
    "drugTree"
   ]
  },
  {
   "cell_type": "markdown",
   "metadata": {
    "button": false,
    "new_sheet": false,
    "run_control": {
     "read_only": false
    }
   },
   "source": [
    "Huấn luyện mô hình trên tập <b> X_trainset </b> và vector nhãn tương ứng <b> y_trainset </b>"
   ]
  },
  {
   "cell_type": "code",
   "execution_count": null,
   "metadata": {
    "button": false,
    "new_sheet": false,
    "run_control": {
     "read_only": false
    }
   },
   "outputs": [],
   "source": [
    "drugTree.fit(X_trainset,y_trainset)"
   ]
  },
  {
   "cell_type": "markdown",
   "metadata": {
    "button": false,
    "new_sheet": false,
    "run_control": {
     "read_only": false
    }
   },
   "source": [
    "<hr>\n",
    "\n",
    "<div id=\"prediction\">\n",
    "    <h2>Dự đoán</h2>\n",
    "    Thực hiện các <b>dự đoán</b> trên tập dữ liệu test và lưu kết quả vào biến <b>predTree</b>.\n",
    "</div>"
   ]
  },
  {
   "cell_type": "code",
   "execution_count": null,
   "metadata": {
    "button": false,
    "new_sheet": false,
    "run_control": {
     "read_only": false
    }
   },
   "outputs": [],
   "source": [
    "predTree = drugTree.predict(X_testset)"
   ]
  },
  {
   "cell_type": "markdown",
   "metadata": {
    "button": false,
    "new_sheet": false,
    "run_control": {
     "read_only": false
    }
   },
   "source": [
    "So sánh kết quả dữ đoán <b>predTree</b> và nhãn thật tương ứng <b>y_testset</b>"
   ]
  },
  {
   "cell_type": "code",
   "execution_count": null,
   "metadata": {
    "button": false,
    "new_sheet": false,
    "run_control": {
     "read_only": false
    },
    "scrolled": true
   },
   "outputs": [],
   "source": [
    "print('Nhãn phán đoán')\n",
    "print (predTree [0:5])\n",
    "print('Nhãn đúng')\n",
    "print(list(y_testset)[0:5])"
   ]
  },
  {
   "cell_type": "markdown",
   "metadata": {
    "button": false,
    "new_sheet": false,
    "run_control": {
     "read_only": false
    }
   },
   "source": [
    "<hr>\n",
    "\n",
    "<div id=\"evaluation\">\n",
    "    <h2>Đánh giá thử mô hình</h2>\n",
    "    Import <b>metrics</b> từ sklearn and kiểm tra độ chính xác của mô hình trên tập test\n",
    "</div>"
   ]
  },
  {
   "cell_type": "code",
   "execution_count": null,
   "metadata": {
    "button": false,
    "new_sheet": false,
    "run_control": {
     "read_only": false
    }
   },
   "outputs": [],
   "source": [
    "from sklearn import metrics\n",
    "import matplotlib.pyplot as plt\n",
    "print(\"DecisionTrees's Accuracy: \", metrics.accuracy_score(y_testset, predTree))"
   ]
  },
  {
   "cell_type": "markdown",
   "metadata": {},
   "source": [
    "<hr>\n",
    "\n",
    "<div id=\"evaluation\">\n",
    "    <h2>Đánh giá ảnh hưởng của các thuộc tính với nhãn</h2>\n",
    "        Đánh giá độ ảnh hưởng của thuộc tính với nhãn là một kỹ thuật để gán điểm số cho các thuộc tính đầu vào của mô hình nhằm cho biết tầm quan trọng của thuộc tính đó khi đưa ra dự đoán.\n",
    "    <br>\n",
    "    <br>\n",
    "    Các điểm số có thể được sử dụng để:\n",
    "    <ul>\n",
    "    <li> Hiểu về dữ liệu\n",
    "    <li> Hiểu về dữ liệu\n",
    "    <li> Giảm số chiều của dữ liệu bằng việc loại đi các thuộc tính không quan trọng </li>\n",
    "</ul>\n",
    "</div>\n"
   ]
  },
  {
   "cell_type": "code",
   "execution_count": null,
   "metadata": {},
   "outputs": [],
   "source": [
    "print(list(my_data.columns)[0:-1])\n",
    "print(list(drugTree.feature_importances_))"
   ]
  },
  {
   "cell_type": "code",
   "execution_count": null,
   "metadata": {},
   "outputs": [],
   "source": []
  }
 ],
 "metadata": {
  "anaconda-cloud": {},
  "kernelspec": {
   "display_name": "Python 3",
   "language": "python",
   "name": "python3"
  },
  "language_info": {
   "codemirror_mode": {
    "name": "ipython",
    "version": 3
   },
   "file_extension": ".py",
   "mimetype": "text/x-python",
   "name": "python",
   "nbconvert_exporter": "python",
   "pygments_lexer": "ipython3",
   "version": "3.8.8"
  },
  "widgets": {
   "state": {},
   "version": "1.1.2"
  }
 },
 "nbformat": 4,
 "nbformat_minor": 4
}
