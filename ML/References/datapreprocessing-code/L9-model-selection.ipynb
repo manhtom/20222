{
 "cells": [
  {
   "cell_type": "markdown",
   "metadata": {},
   "source": [
    "====== Nguồn http://users.soict.hust.edu.vn/khoattq/ml-dm-course/ ======\n",
    "\n",
    "\n",
    "\n",
    "# Bài toán\n",
    "- Cần đánh giá hiệu quả của một mô hình phân loại?\n",
    "- So sánh hiệu quả của 2 mô hình khác nhau?\n",
    "\n",
    "Nhưng ta chỉ có một tập dữ liệu đã thu thập được. Để trả lời hai câu hỏi trên thì cần thực hiện bước \"Lựa chọn tham số\" của mô hình đã chọn. \n",
    "\n",
    "Bài này sẽ hướng dẫn cách thực hiện từng bước chi tiết, từ <b>lựa chọn tham số</b> (sử dụng Cross validation), cho đến <b>đánh giá</b> (sử dụng Holdout) và <b>so sánh</b> hai mô hình khác nhau. Tập dữ liệu sử dụng là tập văn bản đã thu thập được ở Bài học số 2 (tập tin tức từ Vnexpress)."
   ]
  },
  {
   "cell_type": "markdown",
   "metadata": {},
   "source": [
    "## Mục lục\n",
    "- Load dữ liệu từ thư mục\n",
    "- Tiền xử lý dữ liệu\n",
    "- Lựa chọn tham số các mô hình\n",
    "- So sánh SVM và Random Forest"
   ]
  },
  {
   "cell_type": "code",
   "execution_count": null,
   "metadata": {},
   "outputs": [],
   "source": [
    "import os\n",
    "import matplotlib.pyplot as plt\n",
    "import numpy as np\n",
    "from sklearn.model_selection import learning_curve\n",
    "from tqdm import tqdm\n",
    "\n",
    "from sklearn.datasets import load_files\n",
    "from pyvi import ViTokenizer\n",
    "\n",
    "from sklearn import svm\n",
    "from sklearn.ensemble import RandomForestClassifier\n",
    "from sklearn.feature_extraction.text import CountVectorizer, TfidfVectorizer\n",
    "from sklearn.feature_extraction.text import TfidfTransformer\n",
    "from sklearn.model_selection import train_test_split, GridSearchCV\n",
    "from sklearn.pipeline import Pipeline\n",
    "from sklearn.metrics import accuracy_score, confusion_matrix, plot_confusion_matrix\n",
    "\n",
    "%matplotlib inline"
   ]
  },
  {
   "cell_type": "markdown",
   "metadata": {},
   "source": [
    "## 1. Load dữ liệu từ thư mục\n",
    "\n",
    "Giả sử cấu trúc thư mục như sau \n",
    "\n",
    "- data/news_vnexpress/\n",
    "\n",
    "    - Kinh tế: \n",
    "        - bài báo 1.txt \n",
    "        - bài báo 2.txt \n",
    "    - Pháp luật\n",
    "        - bài báo 3.txt \n",
    "        - bài báo 4.txt "
   ]
  },
  {
   "cell_type": "code",
   "execution_count": null,
   "metadata": {},
   "outputs": [],
   "source": [
    "INPUT = 'data/news_vnexpress'\n",
    "os.makedirs(\"images\",exist_ok=True)  # thư mục lưu các hình ảnh kết quả trong quá trình huấn luyện và đánh giá"
   ]
  },
  {
   "cell_type": "code",
   "execution_count": null,
   "metadata": {},
   "outputs": [],
   "source": [
    "# statistics\n",
    "print('Các nhãn và số văn bản tương ứng trong dữ liệu')\n",
    "print('----------------------------------------------')\n",
    "n = 0\n",
    "for label in os.listdir(INPUT):\n",
    "    print(f'{label}: {len(os.listdir(os.path.join(INPUT, label)))}')\n",
    "    n += len(os.listdir(os.path.join(INPUT, label)))\n",
    "\n",
    "print('-------------------------')\n",
    "print(f\"Tổng số văn bản: {n}\")"
   ]
  },
  {
   "cell_type": "code",
   "execution_count": null,
   "metadata": {},
   "outputs": [],
   "source": [
    "# load data\n",
    "data_train = load_files(container_path=INPUT, encoding=\"utf-8\")\n",
    "\n",
    "print('mapping:')\n",
    "for i in range(len(data_train.target_names)):\n",
    "    print(f'{data_train.target_names[i]} - {i}')\n",
    "\n",
    "print('--------------------------')\n",
    "print(data_train.filenames[0:1])\n",
    "# print(data_train.data[0:1])\n",
    "print(data_train.target[0:1])\n",
    "print(data_train.data[0:1])\n",
    "\n",
    "print(\"\\nTổng số  văn bản: {}\" .format( len(data_train.filenames)))"
   ]
  },
  {
   "cell_type": "markdown",
   "metadata": {},
   "source": [
    "## 2. Tiền xử lý dữ liệu:  \n",
    "### 2.1. Chuyển dữ liệu dạng text về dạng số\n",
    "Chuyển dữ liệu dạng text về ma trận (n x m) bằng TF. Chuyển nhãn các văn bản về dạng số"
   ]
  },
  {
   "cell_type": "code",
   "execution_count": null,
   "metadata": {},
   "outputs": [],
   "source": [
    "# load dữ liệu các stopwords \n",
    "with open(\"data/vietnamese-stopwords.txt\", encoding=\"utf-8\") as f:\n",
    "    stopwords = f.readlines()\n",
    "stopwords = [x.strip().replace(\" \", \"_\") for x in stopwords] \n",
    "print(f\"Số lượng stopwords: {len(stopwords)}\")\n",
    "print(stopwords[:10])\n",
    "\n",
    "# Chuyển hoá dữ liệu text về dạng vector TF \n",
    "#     - loại bỏ từ dừng\n",
    "#     - sinh từ điển\n",
    "module_count_vector = CountVectorizer(stop_words=stopwords)\n",
    "model_rf_preprocess = Pipeline([('vect', module_count_vector),\n",
    "                    ('tf', TfidfTransformer()),\n",
    "                    ])\n",
    "# Hàm thực hiện chuyển đổi dữ liệu text thành dữ liệu số dạng ma trận \n",
    "# Input: Dữ liệu 2 chiều dạng numpy.array, mảng nhãn id dạng numpy.array \n",
    "data_preprocessed = model_rf_preprocess.fit_transform(data_train.data, data_train.target)\n",
    "\n",
    "print(f\"\\nSố lượng từ trong từ điển: {len(module_count_vector.vocabulary_)}\")\n",
    "print(f\"Kích thước dữ liệu sau khi xử lý: {data_preprocessed.shape}\")\n",
    "print(f\"Kích thước nhãn tương ứng: {data_train.target.shape}\")"
   ]
  },
  {
   "cell_type": "markdown",
   "metadata": {},
   "source": [
    "### 2.2. Chia dữ liệu thành tập train và test\n",
    "(Nghĩa là ta sẽ dùng Holdout để đánh giá hiệu quả của một mô hình)"
   ]
  },
  {
   "cell_type": "code",
   "execution_count": null,
   "metadata": {},
   "outputs": [],
   "source": [
    "p = 0.2\n",
    "pivot = int(data_preprocessed.shape[0] * (1-0.2))\n",
    "X_train, X_test = data_preprocessed[0:pivot], data_preprocessed[pivot:]\n",
    "Y_train, Y_test = data_train.target[0:pivot], data_train.target[pivot:]"
   ]
  },
  {
   "cell_type": "markdown",
   "metadata": {},
   "source": [
    "# 3. Lựa chọn (tối ưu) tham số\n",
    "\n",
    "Chỉ dùng tập train để thực hiện lựa chọn tham số. \n",
    "- SVM: kernel, C\n",
    "- Random Forest: criteria, N\n",
    "\n",
    "Ta sẽ dùng chiến lược Cross Validation trong bước này."
   ]
  },
  {
   "cell_type": "code",
   "execution_count": null,
   "metadata": {},
   "outputs": [],
   "source": [
    "def cross_validation(estimator):\n",
    "    _, train_scores, test_scores = learning_curve(estimator, X_train, Y_train, cv=10, n_jobs=-1, train_sizes=[1.0, ], scoring=\"accuracy\")\n",
    "    test_scores = test_scores[0]\n",
    "    mean, std = test_scores.mean(), test_scores.std()\n",
    "    return mean, std\n",
    "\n",
    "def plot(title, xlabel, X, Y, error, ylabel = \"Accuracy\"):\n",
    "    plt.xlabel(xlabel)\n",
    "    plt.title(title)\n",
    "    plt.grid()\n",
    "    plt.ylabel(ylabel)\n",
    "    \n",
    "    plt.errorbar(X, Y, error, linestyle='None', marker='o')"
   ]
  },
  {
   "cell_type": "markdown",
   "metadata": {},
   "source": [
    "## 3.1. Đánh giá hiệu quả của các kernel trong SVM"
   ]
  },
  {
   "cell_type": "code",
   "execution_count": null,
   "metadata": {},
   "outputs": [],
   "source": [
    "title = \"thay đổi kernel, C = 1\"\n",
    "xlabel = \"kernel\"\n",
    "X = []\n",
    "Y = []\n",
    "error = []\n",
    "\n",
    "for kernel in tqdm(['linear', 'poly', 'rbf', 'sigmoid']):\n",
    "    # Với mỗi kernel được chọn, \n",
    "    # thực hiện xây dựng mô hình, huấn luyện và đánh giá theo cross-validation\n",
    "    text_clf = svm.SVC(kernel=kernel, C=1.0)\n",
    "    mean, std = cross_validation(text_clf)\n",
    "    X.append(kernel)\n",
    "    Y.append(mean)\n",
    "    error.append(std)\n",
    "\n",
    "# lưu kết quả ra file ảnh \n",
    "plot(title, xlabel, X, Y, error)\n",
    "plt.savefig('images/svm_change_kernel.png', bbox_inches='tight')\n",
    "plt.show()\n"
   ]
  },
  {
   "cell_type": "markdown",
   "metadata": {},
   "source": [
    "## 3.2. Đánh giá ảnh hưởng của tham số C trong SVM"
   ]
  },
  {
   "cell_type": "code",
   "execution_count": null,
   "metadata": {},
   "outputs": [],
   "source": [
    "title = \"thay đổi C, kernel = linear\"\n",
    "xlabel = \"C\"\n",
    "X = []\n",
    "Y = []\n",
    "error = []\n",
    "\n",
    "for C in tqdm([.1, 1.0, 2.0, 5.0, 10.0]):\n",
    "    # Với từng giá trị C nhận được, \n",
    "    # thực hiện xây dựng mô hình, huấn luyện và đánh giá theo cross-validation\n",
    "    text_clf = svm.SVC(kernel='linear', C=C)\n",
    "    mean, std = cross_validation(text_clf)\n",
    "    X.append(str(C))\n",
    "    Y.append(mean)\n",
    "    error.append(std)\n",
    "\n",
    "# lưu kết quả ra file ảnh\n",
    "plot(title, xlabel, X, Y, error)\n",
    "plt.savefig('images/svm_change_C.png', bbox_inches='tight')\n",
    "plt.show()\n"
   ]
  },
  {
   "cell_type": "markdown",
   "metadata": {},
   "source": [
    "## 3.3. Đánh giá ảnh hưởng của độ đo trong Random Forest"
   ]
  },
  {
   "cell_type": "code",
   "execution_count": null,
   "metadata": {},
   "outputs": [],
   "source": [
    "title = \"thay đổi criterion, n_estimators = 50\"\n",
    "xlabel = \"criterion\"\n",
    "X = []\n",
    "Y = []\n",
    "error = []\n",
    "\n",
    "for criterion in tqdm([\"gini\", \"entropy\"]):\n",
    "    # Với mỗi criterion nhận được,\n",
    "    # thực hiện xây dựng mô hình, huấn luyện và đánh giá theo cross-validation\n",
    "    text_clf = RandomForestClassifier(criterion=criterion, n_estimators=50)\n",
    "    mean, std = cross_validation(text_clf)\n",
    "    X.append(str(criterion))\n",
    "    Y.append(mean)\n",
    "    error.append(std)\n",
    "\n",
    "# lưu kết quả ra file ảnh\n",
    "plot(title, xlabel, X, Y, error)\n",
    "plt.savefig('images/RF_change_criterion.png', bbox_inches='tight')\n",
    "plt.show()\n"
   ]
  },
  {
   "cell_type": "markdown",
   "metadata": {},
   "source": [
    "## 3.4. Đánh giá ảnh hưởng của số cây trong Random Forest "
   ]
  },
  {
   "cell_type": "code",
   "execution_count": null,
   "metadata": {},
   "outputs": [],
   "source": [
    "title = \"thay đổi n_estimators, criterion = gini\"\n",
    "xlabel = \"n_estimators\"\n",
    "X = []\n",
    "Y = []\n",
    "error = []\n",
    "\n",
    "for n_estimators in tqdm([10, 50, 100, 300]):\n",
    "    # Với từng giá trị n_estimators nhận được,\n",
    "    # thực hiện xây dựng mô hình, huấn luyện và đánh giá theo cross-validation\n",
    "    text_clf = RandomForestClassifier(criterion='gini', n_estimators=n_estimators)\n",
    "    mean, std = cross_validation(text_clf)\n",
    "    X.append(str(n_estimators))\n",
    "    Y.append(mean)\n",
    "    error.append(std)\n",
    "\n",
    "# lưu kết quả ra file ảnh\n",
    "plot(title, xlabel, X, Y, error)\n",
    "plt.savefig('images/RF_change_N.png', bbox_inches='tight')\n",
    "plt.show()\n"
   ]
  },
  {
   "cell_type": "markdown",
   "metadata": {},
   "source": [
    "# 4. So sánh các mô hình\n",
    "- Sau khi chọn được các bộ tham số tốt nhất cho mỗi mô hình, ta huấn luyện lại trên toàn bộ tập Train.\n",
    "- Dùng các mô hình mới huấn luyện để phán đoán cho các dữ liệu trong tập Test\n",
    "- Đo đạc Độ chính xác (Accuracy) của chúng và so sánh kết quả."
   ]
  },
  {
   "cell_type": "code",
   "execution_count": null,
   "metadata": {},
   "outputs": [],
   "source": [
    "svm_ = svm.SVC(kernel='linear', C=1.0)\n",
    "rf = RandomForestClassifier(criterion='gini', n_estimators=100)\n",
    "\n",
    "# Huấn luyện các mô hình trên tập dữ liệu train đầy đủ\n",
    "svm_.fit(X_train, Y_train)\n",
    "rf.fit(X_train, Y_train)"
   ]
  },
  {
   "cell_type": "code",
   "execution_count": null,
   "metadata": {},
   "outputs": [],
   "source": [
    "# Kết quả dự đoán trên tập test\n",
    "print(f'SVM: {accuracy_score(Y_test, svm_.predict(X_test))}')\n",
    "print(f'RF: {accuracy_score(Y_test, rf.predict(X_test))}')"
   ]
  },
  {
   "cell_type": "code",
   "execution_count": null,
   "metadata": {},
   "outputs": [],
   "source": [
    "plot_confusion_matrix(svm_, X_test, Y_test)"
   ]
  },
  {
   "cell_type": "code",
   "execution_count": null,
   "metadata": {},
   "outputs": [],
   "source": [
    "plot_confusion_matrix(rf, X_test, Y_test)"
   ]
  }
 ],
 "metadata": {
  "kernelspec": {
   "display_name": "Python 3",
   "language": "python",
   "name": "python3"
  },
  "language_info": {
   "codemirror_mode": {
    "name": "ipython",
    "version": 3
   },
   "file_extension": ".py",
   "mimetype": "text/x-python",
   "name": "python",
   "nbconvert_exporter": "python",
   "pygments_lexer": "ipython3",
   "version": "3.8.8"
  }
 },
 "nbformat": 4,
 "nbformat_minor": 4
}
