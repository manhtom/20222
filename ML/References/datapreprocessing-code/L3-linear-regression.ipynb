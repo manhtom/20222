{
 "cells": [
  {
   "cell_type": "markdown",
   "metadata": {},
   "source": [
    "====== Nguồn http://users.soict.hust.edu.vn/khoattq/ml-dm-course/ ======\n",
    "\n",
    "\n",
    "\n",
    "## Bài toán\n",
    " - Dự đoán khả năng tiến triển của bệnh tiểu đường thông qua các chỉ số sinh lý của cơ thể.\n",
    "\n",
    "\n",
    "## Thông tin dữ liệu:\n",
    "\n",
    "- Số lượng mẫu: 442 (thông tin từ 442 bệnh nhân)\n",
    "- Thông tin ccs thuộc tính (10 cột đầu tiên):\n",
    "  - Age(tuổi)\n",
    "  - Sex (giới tính) \n",
    "  - Body mass index (chỉ số khối cơ thể)\n",
    "  - Average blood pressure(huyết ap trung bình)\n",
    "  - S1, S2, S3, S4, S5, S6 (sáu phép đo huyết thanh khác)\n",
    "- Mục tiêu: Cột 11, chỉ số đánh giá mức độ tiến triển của bệnh sau 1 năm điều trị\n",
    "\n",
    "**! Chú ý: Các thuộc tính trong dữ liệu đã được chuẩn hóa**\n",
    "\n",
    "Xem thêm thông tin về nguồn dữ liệu tại: (https://www4.stat.ncsu.edu/~boos/var.select/diabetes.html)\n"
   ]
  },
  {
   "cell_type": "markdown",
   "metadata": {},
   "source": [
    "## Hướng giải quyết\n",
    "\n",
    "Giả sử rằng khả năng tiến triển của bệnh tiểu đường (ký hiệu: `y`) là đại lượng phụ thuộc tuyến tính vào các thông tin sinh lý của bệnh nhân như các thuộc tính đã mô tả ở trên (tuổi, giới tính, chỉ số khối, ... - ký hiệu: $x_1, x_2, .. x_n$) : \n",
    "\n",
    "$y = w_0 + w_1x_1 + w_1x_2 + ... + w_nx_n$\n",
    "\n",
    "Mục tiêu: Tìm được bộ trọng số $[w_0, w_1, w_2... w_n]$ biểu diễn mối quan hệ này. "
   ]
  },
  {
   "cell_type": "markdown",
   "metadata": {},
   "source": [
    "## Thư viện sử dụng \n",
    "\n",
    "- matplotlib: phục vụ vẽ các đồ thị \n",
    "- numpy: tính toán các phép biến đổi trên ma trận / vector \n",
    "- math: thực hiện một số hàm tính toán đơn giản\n",
    "- pandas: Xử lý dữ liệu bảng hai chiều \n",
    "- scikit-learn: (sklearn) thư viện hỗ trợ xây dựng các mô hình học máy, các hàm huấn luyện và đánh giá \n"
   ]
  },
  {
   "cell_type": "code",
   "execution_count": 9,
   "metadata": {},
   "outputs": [],
   "source": [
    "import matplotlib.pyplot as plt\n",
    "import numpy as np\n",
    "import pandas as pd\n",
    "import pickle\n",
    "import math \n",
    "import seaborn as sns\n",
    "\n",
    "from sklearn import datasets, linear_model\n",
    "from sklearn.metrics import mean_squared_error, r2_score\n"
   ]
  },
  {
   "cell_type": "markdown",
   "metadata": {},
   "source": [
    "## 1. Đọc dữ liệu huấn luyện\n",
    "\n",
    "Dữ liệu huấn luyện về bệnh tiểu đường được lưu dưới dạng file .pkl với hai thuộc tính:\n",
    "- data: ma trận 2 chiều (400x10) - các thông tin bệnh nhân được chuẩn hoá về dạng số thực\n",
    "- target: mảng các số thực (400,) - chỉ số tiến triển của bệnh tiểu đường"
   ]
  },
  {
   "cell_type": "code",
   "execution_count": 10,
   "metadata": {},
   "outputs": [
    {
     "name": "stdout",
     "output_type": "stream",
     "text": [
      "Số chiều input:  (400, 10)\n",
      "Số chiều target y tương ứng:  (400,)\n",
      "\n",
      "2 mẫu dữ liệu đầu tiên:\n",
      "input:  [[ 0.03807591  0.05068012  0.06169621  0.02187235 -0.0442235  -0.03482076\n",
      "  -0.04340085 -0.00259226  0.01990842 -0.01764613]\n",
      " [-0.00188202 -0.04464164 -0.05147406 -0.02632783 -0.00844872 -0.01916334\n",
      "   0.07441156 -0.03949338 -0.06832974 -0.09220405]]\n",
      "target:  [151.  75.]\n"
     ]
    }
   ],
   "source": [
    "with open('data/diabetes_train.pkl', 'rb') as f:\n",
    "    diabetes_train = pickle.load(f)\n",
    "print(\"Số chiều input: \", diabetes_train['data'].shape)\n",
    "print(\"Số chiều target y tương ứng: \", diabetes_train['target'].shape)\n",
    "print()\n",
    "\n",
    "print(\"2 mẫu dữ liệu đầu tiên:\")\n",
    "print(\"input: \", diabetes_train['data'][:2])\n",
    "print(\"target: \",diabetes_train['target'][:2])"
   ]
  },
  {
   "cell_type": "markdown",
   "metadata": {},
   "source": [
    "## 2. Xây dựng mô hình hồi quy sử dụng Sklearn\n",
    "\n",
    "Thử nghiệm xây dựng và huấn luyện mô hình hồi quy tuyến tính (Linear Regression)\n",
    "- [Linear Regression](https://scikit-learn.org/stable/modules/generated/sklearn.linear_model.LinearRegression.html) `linear_model.LinearRegression()`"
   ]
  },
  {
   "cell_type": "code",
   "execution_count": 11,
   "metadata": {},
   "outputs": [],
   "source": [
    "# Xây dựng mô hình sử dụng thư viện scikit-learn\n",
    "regr = linear_model.LinearRegression()\n"
   ]
  },
  {
   "cell_type": "markdown",
   "metadata": {},
   "source": [
    "## 3. Huấn luyện mô hình\n",
    "\n",
    "Sử dụng dữ liệu đã được chia ở bước trước đó để thực hiện huấn luyện mô hình \n",
    "\n",
    "=> Tìm được bộ trọng số $[w_0, w_1, ... w_n]$"
   ]
  },
  {
   "cell_type": "code",
   "execution_count": 12,
   "metadata": {},
   "outputs": [
    {
     "name": "stdout",
     "output_type": "stream",
     "text": [
      "[w1, ... w_n] =  [   5.02597344 -238.41461528  521.63399624  299.94110951 -752.12376074\n",
      "  445.15341214   83.51201877  185.57718337  706.4729074    88.68448421]\n",
      "w0 =  152.72942545098695\n"
     ]
    }
   ],
   "source": [
    "# huấn luyện mô hình\n",
    "regr.fit(diabetes_train['data'], diabetes_train['target'])\n",
    "print(\"[w1, ... w_n] = \", regr.coef_)\n",
    "print(\"w0 = \", regr.intercept_)"
   ]
  },
  {
   "cell_type": "markdown",
   "metadata": {},
   "source": [
    "## 4. Dự đoán các mẫu dữ liệu trong tập test "
   ]
  },
  {
   "cell_type": "markdown",
   "metadata": {},
   "source": [
    "# 4.1 Phán đoán"
   ]
  },
  {
   "cell_type": "code",
   "execution_count": 13,
   "metadata": {},
   "outputs": [],
   "source": [
    "# đọc dữ liệu test\n",
    "# dữ liệu test có cấu trúc giống dữ liệu huấn luyện nhưng số lượng mẫu chỉ là 42\n",
    "with open('data/diabetes_test.pkl', 'rb') as f:\n",
    "    diabetes_test = pickle.load(f)\n",
    "\n",
    "# Thực hiện phán đoán cho dữ liệu mới\n",
    "diabetes_y_pred = regr.predict(diabetes_test['data'])"
   ]
  },
  {
   "cell_type": "markdown",
   "metadata": {},
   "source": [
    "## 4.2 Kiểm tra chất lượng phán đoán"
   ]
  },
  {
   "cell_type": "code",
   "execution_count": 14,
   "metadata": {},
   "outputs": [
    {
     "data": {
      "text/html": [
       "<div>\n",
       "<style scoped>\n",
       "    .dataframe tbody tr th:only-of-type {\n",
       "        vertical-align: middle;\n",
       "    }\n",
       "\n",
       "    .dataframe tbody tr th {\n",
       "        vertical-align: top;\n",
       "    }\n",
       "\n",
       "    .dataframe thead th {\n",
       "        text-align: right;\n",
       "    }\n",
       "</style>\n",
       "<table border=\"1\" class=\"dataframe\">\n",
       "  <thead>\n",
       "    <tr style=\"text-align: right;\">\n",
       "      <th></th>\n",
       "      <th>y thực tế</th>\n",
       "      <th>y dự đoán</th>\n",
       "      <th>Lệch</th>\n",
       "    </tr>\n",
       "  </thead>\n",
       "  <tbody>\n",
       "    <tr>\n",
       "      <th>0</th>\n",
       "      <td>175.0</td>\n",
       "      <td>185.393435</td>\n",
       "      <td>10.393435</td>\n",
       "    </tr>\n",
       "    <tr>\n",
       "      <th>1</th>\n",
       "      <td>93.0</td>\n",
       "      <td>90.338849</td>\n",
       "      <td>2.661151</td>\n",
       "    </tr>\n",
       "    <tr>\n",
       "      <th>2</th>\n",
       "      <td>168.0</td>\n",
       "      <td>152.325453</td>\n",
       "      <td>15.674547</td>\n",
       "    </tr>\n",
       "    <tr>\n",
       "      <th>3</th>\n",
       "      <td>275.0</td>\n",
       "      <td>250.866783</td>\n",
       "      <td>24.133217</td>\n",
       "    </tr>\n",
       "    <tr>\n",
       "      <th>4</th>\n",
       "      <td>293.0</td>\n",
       "      <td>198.458698</td>\n",
       "      <td>94.541302</td>\n",
       "    </tr>\n",
       "  </tbody>\n",
       "</table>\n",
       "</div>"
      ],
      "text/plain": [
       "   y thực tế   y dự đoán       Lệch\n",
       "0      175.0  185.393435  10.393435\n",
       "1       93.0   90.338849   2.661151\n",
       "2      168.0  152.325453  15.674547\n",
       "3      275.0  250.866783  24.133217\n",
       "4      293.0  198.458698  94.541302"
      ]
     },
     "execution_count": 14,
     "metadata": {},
     "output_type": "execute_result"
    }
   ],
   "source": [
    "df = pd.DataFrame(data=np.array([diabetes_test['target'], diabetes_y_pred,\n",
    "                            abs(diabetes_test['target'] - diabetes_y_pred)]).T,\n",
    "             columns=[\"y thực tế\", \"y dự đoán\", \"Lệch\"])\n",
    "\n",
    "# In ra 5 phán đoán đầu tiên\n",
    "df.head(5)"
   ]
  },
  {
   "cell_type": "markdown",
   "metadata": {},
   "source": [
    "Sử dụng độ đo RMSE (căn bậc 2 của trung bình bình phương lỗi) \n",
    "> $\\text{RMSE}(y, \\hat{y}) = \\sqrt{\\frac{1}{m} \\sum\\limits_{i=1}^{m} (y_i - \\hat{y}_i)^2}$\n",
    "\n",
    "- RMSE càng nhỏ càng thể hiện mô hình có khả năng học và dự đoán hiệu quả"
   ]
  },
  {
   "cell_type": "code",
   "execution_count": 15,
   "metadata": {},
   "outputs": [
    {
     "name": "stdout",
     "output_type": "stream",
     "text": [
      "RMSE = 40.85033252728767\n"
     ]
    }
   ],
   "source": [
    "rmse = math.sqrt(mean_squared_error(diabetes_test['target'], diabetes_y_pred))\n",
    "print(f'RMSE = {rmse}')"
   ]
  },
  {
   "cell_type": "markdown",
   "metadata": {},
   "source": [
    "Phân phối các dự đoán đầu ra của mô hình"
   ]
  },
  {
   "cell_type": "code",
   "execution_count": 16,
   "metadata": {},
   "outputs": [
    {
     "data": {
      "text/plain": [
       "<seaborn.axisgrid.FacetGrid at 0x108862430>"
      ]
     },
     "execution_count": 16,
     "metadata": {},
     "output_type": "execute_result"
    },
    {
     "data": {
      "image/png": "[encoded data removed]",
      "text/plain": [
       "<Figure size 360x360 with 1 Axes>"
      ]
     },
     "metadata": {
      "needs_background": "light"
     },
     "output_type": "display_data"
    }
   ],
   "source": [
    "sns.displot(diabetes_y_pred, )"
   ]
  },
  {
   "cell_type": "markdown",
   "metadata": {},
   "source": [
    "Hình ảnh mô tả phân phối các dự đoán đầu ra của mô hình trên dữ liệu test. Trong đó, trục ngang là giá trị dự đoán và trục đứng là số lần dự đoán các giá trị đó."
   ]
  },
  {
   "cell_type": "code",
   "execution_count": null,
   "metadata": {},
   "outputs": [],
   "source": []
  }
 ],
 "metadata": {
  "kernelspec": {
   "display_name": "Python 3",
   "language": "python",
   "name": "python3"
  },
  "language_info": {
   "codemirror_mode": {
    "name": "ipython",
    "version": 3
   },
   "file_extension": ".py",
   "mimetype": "text/x-python",
   "name": "python",
   "nbconvert_exporter": "python",
   "pygments_lexer": "ipython3",
   "version": "3.8.8"
  }
 },
 "nbformat": 4,
 "nbformat_minor": 4
}
